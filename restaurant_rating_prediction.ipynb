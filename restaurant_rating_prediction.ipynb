{
 "cells": [
  {
   "cell_type": "code",
   "execution_count": 314,
   "metadata": {},
   "outputs": [],
   "source": [
    "import pandas as pd\n",
    "import numpy as np\n",
    "import matplotlib.pyplot as plt\n",
    "import seaborn as sns\n",
    "from sklearn.linear_model import LinearRegression\n",
    "from sklearn.model_selection import train_test_split, cross_val_score, KFold, RandomizedSearchCV, GridSearchCV, cross_validate\n",
    "from sklearn.metrics import mean_squared_error\n",
    "from sklearn.preprocessing import StandardScaler\n",
    "from sklearn.pipeline import Pipeline\n",
    "from sklearn.preprocessing import OneHotEncoder, LabelEncoder\n",
    "from sklearn.feature_extraction import DictVectorizer\n",
    "from sklearn.compose import ColumnTransformer\n",
    "from sklearn.ensemble import RandomForestRegressor\n",
    "from sklearn.tree import DecisionTreeRegressor"
   ]
  },
  {
   "cell_type": "code",
   "execution_count": 126,
   "metadata": {},
   "outputs": [],
   "source": [
    "df = pd.read_csv(\"restaurant dataset.csv\")"
   ]
  },
  {
   "cell_type": "markdown",
   "metadata": {},
   "source": [
    "## 1-Exploratory Data Analysis"
   ]
  },
  {
   "cell_type": "code",
   "execution_count": 127,
   "metadata": {},
   "outputs": [
    {
     "data": {
      "text/html": [
       "<div>\n",
       "<style scoped>\n",
       "    .dataframe tbody tr th:only-of-type {\n",
       "        vertical-align: middle;\n",
       "    }\n",
       "\n",
       "    .dataframe tbody tr th {\n",
       "        vertical-align: top;\n",
       "    }\n",
       "\n",
       "    .dataframe thead th {\n",
       "        text-align: right;\n",
       "    }\n",
       "</style>\n",
       "<table border=\"1\" class=\"dataframe\">\n",
       "  <thead>\n",
       "    <tr style=\"text-align: right;\">\n",
       "      <th></th>\n",
       "      <th>id</th>\n",
       "      <th>name</th>\n",
       "      <th>table_bookings</th>\n",
       "      <th>online_ordering</th>\n",
       "      <th>location</th>\n",
       "      <th>rating</th>\n",
       "      <th>votes</th>\n",
       "      <th>phone</th>\n",
       "      <th>restaurant_type</th>\n",
       "      <th>restaurant_operation</th>\n",
       "      <th>popular_dishes</th>\n",
       "      <th>cuisines_offered</th>\n",
       "      <th>primary_cuisine</th>\n",
       "      <th>Unnamed: 13</th>\n",
       "    </tr>\n",
       "  </thead>\n",
       "  <tbody>\n",
       "    <tr>\n",
       "      <th>0</th>\n",
       "      <td>19281</td>\n",
       "      <td>Plan B</td>\n",
       "      <td>No</td>\n",
       "      <td>No</td>\n",
       "      <td>Greenwich</td>\n",
       "      <td>4.2/5</td>\n",
       "      <td>1651.0</td>\n",
       "      <td>8041609100</td>\n",
       "      <td>Casual Dining</td>\n",
       "      <td>Drinks &amp; nightlife</td>\n",
       "      <td>7.0</td>\n",
       "      <td>4.0</td>\n",
       "      <td>American</td>\n",
       "      <td>NaN</td>\n",
       "    </tr>\n",
       "    <tr>\n",
       "      <th>1</th>\n",
       "      <td>16095</td>\n",
       "      <td>Mom's Kitchen</td>\n",
       "      <td>No</td>\n",
       "      <td>No</td>\n",
       "      <td>East Village</td>\n",
       "      <td>NaN</td>\n",
       "      <td>0.0</td>\n",
       "      <td>9738732072,  9742716121</td>\n",
       "      <td>Delivery</td>\n",
       "      <td>Delivery</td>\n",
       "      <td>1.0</td>\n",
       "      <td>1.0</td>\n",
       "      <td>American</td>\n",
       "      <td>NaN</td>\n",
       "    </tr>\n",
       "    <tr>\n",
       "      <th>2</th>\n",
       "      <td>42040</td>\n",
       "      <td>Keys Cafe - Keys Hotel</td>\n",
       "      <td>No</td>\n",
       "      <td>No</td>\n",
       "      <td>Chinatown</td>\n",
       "      <td>2.8 /5</td>\n",
       "      <td>161.0</td>\n",
       "      <td>080 39451000\\n 8884038484</td>\n",
       "      <td>Casual Dining</td>\n",
       "      <td>Dine-out</td>\n",
       "      <td>7.0</td>\n",
       "      <td>3.0</td>\n",
       "      <td>Chinese</td>\n",
       "      <td>NaN</td>\n",
       "    </tr>\n",
       "    <tr>\n",
       "      <th>3</th>\n",
       "      <td>18753</td>\n",
       "      <td>Smally's Resto Cafe</td>\n",
       "      <td>Yes</td>\n",
       "      <td>No</td>\n",
       "      <td>Greenwich</td>\n",
       "      <td>4.0/5</td>\n",
       "      <td>401.0</td>\n",
       "      <td>080 48149349,  9632015858</td>\n",
       "      <td>Cafe</td>\n",
       "      <td>Dine-out</td>\n",
       "      <td>7.0</td>\n",
       "      <td>5.0</td>\n",
       "      <td>Snacks</td>\n",
       "      <td>NaN</td>\n",
       "    </tr>\n",
       "    <tr>\n",
       "      <th>4</th>\n",
       "      <td>21065</td>\n",
       "      <td>Fabcafe</td>\n",
       "      <td>No</td>\n",
       "      <td>Yes</td>\n",
       "      <td>Chelsea</td>\n",
       "      <td>3.8 /5</td>\n",
       "      <td>11.0</td>\n",
       "      <td>8050403072</td>\n",
       "      <td>Cafe</td>\n",
       "      <td>Dine-out</td>\n",
       "      <td>1.0</td>\n",
       "      <td>2.0</td>\n",
       "      <td>Snacks</td>\n",
       "      <td>NaN</td>\n",
       "    </tr>\n",
       "  </tbody>\n",
       "</table>\n",
       "</div>"
      ],
      "text/plain": [
       "      id                    name table_bookings online_ordering      location  \\\n",
       "0  19281                  Plan B             No              No     Greenwich   \n",
       "1  16095           Mom's Kitchen             No              No  East Village   \n",
       "2  42040  Keys Cafe - Keys Hotel             No              No     Chinatown   \n",
       "3  18753     Smally's Resto Cafe            Yes              No     Greenwich   \n",
       "4  21065                 Fabcafe             No             Yes       Chelsea   \n",
       "\n",
       "   rating   votes                      phone restaurant_type  \\\n",
       "0   4.2/5  1651.0                 8041609100   Casual Dining   \n",
       "1     NaN     0.0    9738732072,  9742716121        Delivery   \n",
       "2  2.8 /5   161.0  080 39451000\\n 8884038484   Casual Dining   \n",
       "3   4.0/5   401.0  080 48149349,  9632015858            Cafe   \n",
       "4  3.8 /5    11.0                 8050403072            Cafe   \n",
       "\n",
       "  restaurant_operation  popular_dishes  cuisines_offered primary_cuisine  \\\n",
       "0   Drinks & nightlife             7.0               4.0        American   \n",
       "1             Delivery             1.0               1.0        American   \n",
       "2             Dine-out             7.0               3.0         Chinese   \n",
       "3             Dine-out             7.0               5.0          Snacks   \n",
       "4             Dine-out             1.0               2.0          Snacks   \n",
       "\n",
       "   Unnamed: 13  \n",
       "0          NaN  \n",
       "1          NaN  \n",
       "2          NaN  \n",
       "3          NaN  \n",
       "4          NaN  "
      ]
     },
     "execution_count": 127,
     "metadata": {},
     "output_type": "execute_result"
    }
   ],
   "source": [
    "df.head()"
   ]
  },
  {
   "cell_type": "code",
   "execution_count": 128,
   "metadata": {},
   "outputs": [
    {
     "data": {
      "text/plain": [
       "(3484, 14)"
      ]
     },
     "execution_count": 128,
     "metadata": {},
     "output_type": "execute_result"
    }
   ],
   "source": [
    "df.shape"
   ]
  },
  {
   "cell_type": "code",
   "execution_count": 129,
   "metadata": {},
   "outputs": [
    {
     "data": {
      "text/plain": [
       "Index(['id', 'name', 'table_bookings', 'online_ordering', 'location', 'rating',\n",
       "       'votes', 'phone', 'restaurant_type', 'restaurant_operation',\n",
       "       'popular_dishes', 'cuisines_offered', 'primary_cuisine', 'Unnamed: 13'],\n",
       "      dtype='object')"
      ]
     },
     "execution_count": 129,
     "metadata": {},
     "output_type": "execute_result"
    }
   ],
   "source": [
    "df.columns"
   ]
  },
  {
   "cell_type": "code",
   "execution_count": 130,
   "metadata": {},
   "outputs": [
    {
     "name": "stdout",
     "output_type": "stream",
     "text": [
      "<class 'pandas.core.frame.DataFrame'>\n",
      "RangeIndex: 3484 entries, 0 to 3483\n",
      "Data columns (total 14 columns):\n",
      " #   Column                Non-Null Count  Dtype  \n",
      "---  ------                --------------  -----  \n",
      " 0   id                    3484 non-null   int64  \n",
      " 1   name                  3484 non-null   object \n",
      " 2   table_bookings        3484 non-null   object \n",
      " 3   online_ordering       3484 non-null   object \n",
      " 4   location              3484 non-null   object \n",
      " 5   rating                2960 non-null   object \n",
      " 6   votes                 3418 non-null   float64\n",
      " 7   phone                 3435 non-null   object \n",
      " 8   restaurant_type       3342 non-null   object \n",
      " 9   restaurant_operation  3456 non-null   object \n",
      " 10  popular_dishes        3312 non-null   float64\n",
      " 11  cuisines_offered      3456 non-null   float64\n",
      " 12  primary_cuisine       3456 non-null   object \n",
      " 13  Unnamed: 13           2435 non-null   float64\n",
      "dtypes: float64(4), int64(1), object(9)\n",
      "memory usage: 381.2+ KB\n"
     ]
    }
   ],
   "source": [
    "df.info()"
   ]
  },
  {
   "cell_type": "code",
   "execution_count": 131,
   "metadata": {},
   "outputs": [
    {
     "data": {
      "text/html": [
       "<div>\n",
       "<style scoped>\n",
       "    .dataframe tbody tr th:only-of-type {\n",
       "        vertical-align: middle;\n",
       "    }\n",
       "\n",
       "    .dataframe tbody tr th {\n",
       "        vertical-align: top;\n",
       "    }\n",
       "\n",
       "    .dataframe thead th {\n",
       "        text-align: right;\n",
       "    }\n",
       "</style>\n",
       "<table border=\"1\" class=\"dataframe\">\n",
       "  <thead>\n",
       "    <tr style=\"text-align: right;\">\n",
       "      <th></th>\n",
       "      <th>id</th>\n",
       "      <th>votes</th>\n",
       "      <th>popular_dishes</th>\n",
       "      <th>cuisines_offered</th>\n",
       "      <th>Unnamed: 13</th>\n",
       "    </tr>\n",
       "  </thead>\n",
       "  <tbody>\n",
       "    <tr>\n",
       "      <th>count</th>\n",
       "      <td>3484.000000</td>\n",
       "      <td>3418.000000</td>\n",
       "      <td>3312.000000</td>\n",
       "      <td>3456.000000</td>\n",
       "      <td>2435.000000</td>\n",
       "    </tr>\n",
       "    <tr>\n",
       "      <th>mean</th>\n",
       "      <td>24349.432549</td>\n",
       "      <td>465.926273</td>\n",
       "      <td>3.558877</td>\n",
       "      <td>2.567708</td>\n",
       "      <td>0.520329</td>\n",
       "    </tr>\n",
       "    <tr>\n",
       "      <th>std</th>\n",
       "      <td>14038.782967</td>\n",
       "      <td>1231.999492</td>\n",
       "      <td>2.806695</td>\n",
       "      <td>1.316285</td>\n",
       "      <td>0.499689</td>\n",
       "    </tr>\n",
       "    <tr>\n",
       "      <th>min</th>\n",
       "      <td>53.000000</td>\n",
       "      <td>0.000000</td>\n",
       "      <td>1.000000</td>\n",
       "      <td>1.000000</td>\n",
       "      <td>0.000000</td>\n",
       "    </tr>\n",
       "    <tr>\n",
       "      <th>25%</th>\n",
       "      <td>11029.500000</td>\n",
       "      <td>9.000000</td>\n",
       "      <td>1.000000</td>\n",
       "      <td>2.000000</td>\n",
       "      <td>0.000000</td>\n",
       "    </tr>\n",
       "    <tr>\n",
       "      <th>50%</th>\n",
       "      <td>22513.500000</td>\n",
       "      <td>66.000000</td>\n",
       "      <td>1.000000</td>\n",
       "      <td>2.000000</td>\n",
       "      <td>1.000000</td>\n",
       "    </tr>\n",
       "    <tr>\n",
       "      <th>75%</th>\n",
       "      <td>34710.000000</td>\n",
       "      <td>379.000000</td>\n",
       "      <td>7.000000</td>\n",
       "      <td>3.000000</td>\n",
       "      <td>1.000000</td>\n",
       "    </tr>\n",
       "    <tr>\n",
       "      <th>max</th>\n",
       "      <td>51708.000000</td>\n",
       "      <td>14723.000000</td>\n",
       "      <td>7.000000</td>\n",
       "      <td>8.000000</td>\n",
       "      <td>1.000000</td>\n",
       "    </tr>\n",
       "  </tbody>\n",
       "</table>\n",
       "</div>"
      ],
      "text/plain": [
       "                 id         votes  popular_dishes  cuisines_offered  \\\n",
       "count   3484.000000   3418.000000     3312.000000       3456.000000   \n",
       "mean   24349.432549    465.926273        3.558877          2.567708   \n",
       "std    14038.782967   1231.999492        2.806695          1.316285   \n",
       "min       53.000000      0.000000        1.000000          1.000000   \n",
       "25%    11029.500000      9.000000        1.000000          2.000000   \n",
       "50%    22513.500000     66.000000        1.000000          2.000000   \n",
       "75%    34710.000000    379.000000        7.000000          3.000000   \n",
       "max    51708.000000  14723.000000        7.000000          8.000000   \n",
       "\n",
       "       Unnamed: 13  \n",
       "count  2435.000000  \n",
       "mean      0.520329  \n",
       "std       0.499689  \n",
       "min       0.000000  \n",
       "25%       0.000000  \n",
       "50%       1.000000  \n",
       "75%       1.000000  \n",
       "max       1.000000  "
      ]
     },
     "execution_count": 131,
     "metadata": {},
     "output_type": "execute_result"
    }
   ],
   "source": [
    "df.describe()"
   ]
  },
  {
   "cell_type": "markdown",
   "metadata": {},
   "source": [
    "### Notes:\n",
    "- We need to remove the '/5' part from the ratings column\n",
    "- We need to investigate the 'Unnamed column' as it appears that it has some data"
   ]
  },
  {
   "cell_type": "code",
   "execution_count": 132,
   "metadata": {},
   "outputs": [
    {
     "data": {
      "text/plain": [
       "'4.2'"
      ]
     },
     "execution_count": 132,
     "metadata": {},
     "output_type": "execute_result"
    }
   ],
   "source": [
    "# Quick test\n",
    "\"4.2/5\".removesuffix('/5') "
   ]
  },
  {
   "cell_type": "code",
   "execution_count": 133,
   "metadata": {},
   "outputs": [],
   "source": [
    "# We can only do this operation only with values, so, we exclude Nan values for now\n",
    "# df['rating'].notnull().map(lambda x: x.removesuffix('/5')) # This line produces some errors related to variables type, so this column might be having some wrong data"
   ]
  },
  {
   "cell_type": "code",
   "execution_count": 134,
   "metadata": {},
   "outputs": [
    {
     "data": {
      "text/plain": [
       "array(['4.2/5', nan, '2.8 /5', '4.0/5', '3.8 /5', '4.5 /5', '3.7 /5',\n",
       "       '3.9 /5', '4.4 /5', '4.1/5', '3.7/5', '4.1 /5', '3.5/5', 'NEW',\n",
       "       '4.4/5', '3.2 /5', '3.4 /5', '2.9/5', '3.5 /5', '3.9/5', '3.1 /5',\n",
       "       '3.3 /5', '3.6/5', '4.5/5', '2.6 /5', '4.2 /5', '4.0 /5', '3.2/5',\n",
       "       '2.7 /5', '3.8/5', '4.3/5', '4.3 /5', '4.7 /5', '2.8/5', '3.1/5',\n",
       "       '3.6 /5', '2.4 /5', '3.4/5', '3.0/5', '2.9 /5', '2.6/5', '2.7/5',\n",
       "       '3.0 /5', '3.3/5', '4.7/5', '2.5/5', '4.6 /5', '4.6/5', '4.8 /5',\n",
       "       '2.5 /5', '4.8/5', '-', '2.2/5', '2.1 /5', '2.4/5'], dtype=object)"
      ]
     },
     "execution_count": 134,
     "metadata": {},
     "output_type": "execute_result"
    }
   ],
   "source": [
    "df['rating'].unique()"
   ]
  },
  {
   "cell_type": "code",
   "execution_count": 135,
   "metadata": {},
   "outputs": [],
   "source": [
    "# Lets replace 'NEW' and '-' with nan, also, we need to remove sapces to unify the data\n",
    "df['rating'].replace([\"-\", \"NEW\"], np.nan, inplace=True)"
   ]
  },
  {
   "cell_type": "code",
   "execution_count": 136,
   "metadata": {},
   "outputs": [
    {
     "data": {
      "text/plain": [
       "array(['4.2/5', nan, '2.8 /5', '4.0/5', '3.8 /5', '4.5 /5', '3.7 /5',\n",
       "       '3.9 /5', '4.4 /5', '4.1/5', '3.7/5', '4.1 /5', '3.5/5', '4.4/5',\n",
       "       '3.2 /5', '3.4 /5', '2.9/5', '3.5 /5', '3.9/5', '3.1 /5', '3.3 /5',\n",
       "       '3.6/5', '4.5/5', '2.6 /5', '4.2 /5', '4.0 /5', '3.2/5', '2.7 /5',\n",
       "       '3.8/5', '4.3/5', '4.3 /5', '4.7 /5', '2.8/5', '3.1/5', '3.6 /5',\n",
       "       '2.4 /5', '3.4/5', '3.0/5', '2.9 /5', '2.6/5', '2.7/5', '3.0 /5',\n",
       "       '3.3/5', '4.7/5', '2.5/5', '4.6 /5', '4.6/5', '4.8 /5', '2.5 /5',\n",
       "       '4.8/5', '2.2/5', '2.1 /5', '2.4/5'], dtype=object)"
      ]
     },
     "execution_count": 136,
     "metadata": {},
     "output_type": "execute_result"
    }
   ],
   "source": [
    "df['rating'].unique()"
   ]
  },
  {
   "cell_type": "code",
   "execution_count": 137,
   "metadata": {},
   "outputs": [],
   "source": [
    "df['rating'] = df['rating'].str.replace(\" \", \"\")"
   ]
  },
  {
   "cell_type": "code",
   "execution_count": 138,
   "metadata": {},
   "outputs": [
    {
     "data": {
      "text/plain": [
       "array(['4.2/5', nan, '2.8/5', '4.0/5', '3.8/5', '4.5/5', '3.7/5', '3.9/5',\n",
       "       '4.4/5', '4.1/5', '3.5/5', '3.2/5', '3.4/5', '2.9/5', '3.1/5',\n",
       "       '3.3/5', '3.6/5', '2.6/5', '2.7/5', '4.3/5', '4.7/5', '2.4/5',\n",
       "       '3.0/5', '2.5/5', '4.6/5', '4.8/5', '2.2/5', '2.1/5'], dtype=object)"
      ]
     },
     "execution_count": 138,
     "metadata": {},
     "output_type": "execute_result"
    }
   ],
   "source": [
    "df['rating'].unique()"
   ]
  },
  {
   "cell_type": "code",
   "execution_count": 139,
   "metadata": {},
   "outputs": [],
   "source": [
    "# Now, lets try the above line again\n",
    "df['rating'] = df['rating'].str.replace(\"/5\", \"\")"
   ]
  },
  {
   "cell_type": "code",
   "execution_count": 140,
   "metadata": {},
   "outputs": [
    {
     "data": {
      "text/plain": [
       "array(['4.2', nan, '2.8', '4.0', '3.8', '4.5', '3.7', '3.9', '4.4', '4.1',\n",
       "       '3.5', '3.2', '3.4', '2.9', '3.1', '3.3', '3.6', '2.6', '2.7',\n",
       "       '4.3', '4.7', '2.4', '3.0', '2.5', '4.6', '4.8', '2.2', '2.1'],\n",
       "      dtype=object)"
      ]
     },
     "execution_count": 140,
     "metadata": {},
     "output_type": "execute_result"
    }
   ],
   "source": [
    "df['rating'].unique()"
   ]
  },
  {
   "cell_type": "code",
   "execution_count": 141,
   "metadata": {},
   "outputs": [],
   "source": [
    "# Convert column type from string to float\n",
    "df['rating'] = df['rating'].astype(float)"
   ]
  },
  {
   "cell_type": "code",
   "execution_count": 142,
   "metadata": {},
   "outputs": [
    {
     "data": {
      "text/plain": [
       "2.1      1\n",
       "2.2      2\n",
       "2.4      3\n",
       "2.5     10\n",
       "2.6     24\n",
       "2.7     15\n",
       "2.8     42\n",
       "2.9     50\n",
       "3.0     71\n",
       "3.1     69\n",
       "3.2     98\n",
       "3.3    113\n",
       "3.4    148\n",
       "3.5    192\n",
       "3.6    160\n",
       "3.7    258\n",
       "3.8    219\n",
       "3.9    292\n",
       "4.0    206\n",
       "4.1    286\n",
       "4.2    177\n",
       "4.3    115\n",
       "4.4     90\n",
       "4.5     81\n",
       "4.6     16\n",
       "4.7     33\n",
       "4.8     11\n",
       "Name: rating, dtype: int64"
      ]
     },
     "execution_count": 142,
     "metadata": {},
     "output_type": "execute_result"
    }
   ],
   "source": [
    "# Lets check the ratings destrubution\n",
    "df['rating'].value_counts().sort_index(ascending=True)"
   ]
  },
  {
   "cell_type": "code",
   "execution_count": 143,
   "metadata": {},
   "outputs": [
    {
     "data": {
      "text/plain": [
       "count    2782.000000\n",
       "mean        3.763803\n",
       "std         0.452372\n",
       "min         2.100000\n",
       "25%         3.500000\n",
       "50%         3.800000\n",
       "75%         4.100000\n",
       "max         4.800000\n",
       "Name: rating, dtype: float64"
      ]
     },
     "execution_count": 143,
     "metadata": {},
     "output_type": "execute_result"
    }
   ],
   "source": [
    "df['rating'].describe()"
   ]
  },
  {
   "cell_type": "code",
   "execution_count": 144,
   "metadata": {},
   "outputs": [],
   "source": [
    "# Lets replace nans with the ratings mean so that we dont lose ~500 records\n",
    "df['rating'].fillna(df['rating'].mean(), inplace=True)"
   ]
  },
  {
   "cell_type": "code",
   "execution_count": 145,
   "metadata": {},
   "outputs": [
    {
     "data": {
      "text/plain": [
       "0"
      ]
     },
     "execution_count": 145,
     "metadata": {},
     "output_type": "execute_result"
    }
   ],
   "source": [
    "# Making sure everything is ok\n",
    "df['rating'].isna().sum()"
   ]
  },
  {
   "cell_type": "code",
   "execution_count": 146,
   "metadata": {},
   "outputs": [
    {
     "data": {
      "text/plain": [
       "array([nan,  1.,  0.])"
      ]
     },
     "execution_count": 146,
     "metadata": {},
     "output_type": "execute_result"
    }
   ],
   "source": [
    "# Inestigate the 'Unnamed' column\n",
    "df['Unnamed: 13'].unique()"
   ]
  },
  {
   "cell_type": "code",
   "execution_count": 147,
   "metadata": {},
   "outputs": [
    {
     "data": {
      "text/plain": [
       "1049"
      ]
     },
     "execution_count": 147,
     "metadata": {},
     "output_type": "execute_result"
    }
   ],
   "source": [
    "df['Unnamed: 13'].isna().sum()"
   ]
  },
  {
   "cell_type": "code",
   "execution_count": 148,
   "metadata": {},
   "outputs": [],
   "source": [
    "# Looks like that this column used to have some boolean data in it, but since we don't know what it was and that it has so many null data, we will drop it\n",
    "df.drop('Unnamed: 13', axis=1, inplace=True)"
   ]
  },
  {
   "cell_type": "code",
   "execution_count": 149,
   "metadata": {},
   "outputs": [],
   "source": [
    "# Lets also do some cleaning to the other columns we have\n",
    "\n",
    "# df['table_bookings'].unique()\n",
    "# df['online_ordering'].unique()\n",
    "\n",
    "df['table_bookings'] = df['table_bookings'].map(dict(Yes=1, No=0)).astype('bool')\n",
    "df['online_ordering'] = df['online_ordering'].map(dict(Yes=1, No=0)).astype('bool')"
   ]
  },
  {
   "cell_type": "code",
   "execution_count": 150,
   "metadata": {},
   "outputs": [
    {
     "name": "stdout",
     "output_type": "stream",
     "text": [
      "<class 'pandas.core.frame.DataFrame'>\n",
      "RangeIndex: 3484 entries, 0 to 3483\n",
      "Data columns (total 13 columns):\n",
      " #   Column                Non-Null Count  Dtype  \n",
      "---  ------                --------------  -----  \n",
      " 0   id                    3484 non-null   int64  \n",
      " 1   name                  3484 non-null   object \n",
      " 2   table_bookings        3484 non-null   bool   \n",
      " 3   online_ordering       3484 non-null   bool   \n",
      " 4   location              3484 non-null   object \n",
      " 5   rating                3484 non-null   float64\n",
      " 6   votes                 3418 non-null   float64\n",
      " 7   phone                 3435 non-null   object \n",
      " 8   restaurant_type       3342 non-null   object \n",
      " 9   restaurant_operation  3456 non-null   object \n",
      " 10  popular_dishes        3312 non-null   float64\n",
      " 11  cuisines_offered      3456 non-null   float64\n",
      " 12  primary_cuisine       3456 non-null   object \n",
      "dtypes: bool(2), float64(4), int64(1), object(6)\n",
      "memory usage: 306.3+ KB\n"
     ]
    }
   ],
   "source": [
    "df.info()"
   ]
  },
  {
   "cell_type": "code",
   "execution_count": 151,
   "metadata": {},
   "outputs": [],
   "source": [
    "# df['primary_cuisine'].value_counts()\n",
    "# df['restaurant_type'].value_counts()\n",
    "# df['restaurant_operation'].value_counts()\n",
    "# df['location'].value_counts()\n",
    "df['primary_cuisine'] = df['primary_cuisine'].astype('category')\n",
    "df['restaurant_type'] = df['restaurant_type'].astype('category')\n",
    "df['restaurant_operation'] = df['restaurant_operation'].astype('category')\n",
    "df['location'] = df['location'].astype('category')"
   ]
  },
  {
   "cell_type": "code",
   "execution_count": 152,
   "metadata": {},
   "outputs": [
    {
     "name": "stdout",
     "output_type": "stream",
     "text": [
      "<class 'pandas.core.frame.DataFrame'>\n",
      "RangeIndex: 3484 entries, 0 to 3483\n",
      "Data columns (total 13 columns):\n",
      " #   Column                Non-Null Count  Dtype   \n",
      "---  ------                --------------  -----   \n",
      " 0   id                    3484 non-null   int64   \n",
      " 1   name                  3484 non-null   object  \n",
      " 2   table_bookings        3484 non-null   bool    \n",
      " 3   online_ordering       3484 non-null   bool    \n",
      " 4   location              3484 non-null   category\n",
      " 5   rating                3484 non-null   float64 \n",
      " 6   votes                 3418 non-null   float64 \n",
      " 7   phone                 3435 non-null   object  \n",
      " 8   restaurant_type       3342 non-null   category\n",
      " 9   restaurant_operation  3456 non-null   category\n",
      " 10  popular_dishes        3312 non-null   float64 \n",
      " 11  cuisines_offered      3456 non-null   float64 \n",
      " 12  primary_cuisine       3456 non-null   category\n",
      "dtypes: bool(2), category(4), float64(4), int64(1), object(2)\n",
      "memory usage: 212.6+ KB\n"
     ]
    }
   ],
   "source": [
    "df.info()"
   ]
  },
  {
   "cell_type": "code",
   "execution_count": 153,
   "metadata": {},
   "outputs": [],
   "source": [
    "# Fill null values with the most frequent category\n",
    "df['primary_cuisine'] = df['primary_cuisine'].fillna(df['primary_cuisine'].value_counts().index[0])\n",
    "df['restaurant_type'] = df['restaurant_type'].fillna(df['restaurant_type'].value_counts().index[0])\n",
    "df['restaurant_operation'] = df['restaurant_operation'].fillna(df['restaurant_operation'].value_counts().index[0])"
   ]
  },
  {
   "cell_type": "code",
   "execution_count": 154,
   "metadata": {},
   "outputs": [
    {
     "name": "stdout",
     "output_type": "stream",
     "text": [
      "<class 'pandas.core.frame.DataFrame'>\n",
      "RangeIndex: 3484 entries, 0 to 3483\n",
      "Data columns (total 13 columns):\n",
      " #   Column                Non-Null Count  Dtype   \n",
      "---  ------                --------------  -----   \n",
      " 0   id                    3484 non-null   int64   \n",
      " 1   name                  3484 non-null   object  \n",
      " 2   table_bookings        3484 non-null   bool    \n",
      " 3   online_ordering       3484 non-null   bool    \n",
      " 4   location              3484 non-null   category\n",
      " 5   rating                3484 non-null   float64 \n",
      " 6   votes                 3418 non-null   float64 \n",
      " 7   phone                 3435 non-null   object  \n",
      " 8   restaurant_type       3484 non-null   category\n",
      " 9   restaurant_operation  3484 non-null   category\n",
      " 10  popular_dishes        3312 non-null   float64 \n",
      " 11  cuisines_offered      3456 non-null   float64 \n",
      " 12  primary_cuisine       3484 non-null   category\n",
      "dtypes: bool(2), category(4), float64(4), int64(1), object(2)\n",
      "memory usage: 212.6+ KB\n"
     ]
    }
   ],
   "source": [
    "df.info()"
   ]
  },
  {
   "cell_type": "code",
   "execution_count": 155,
   "metadata": {},
   "outputs": [
    {
     "data": {
      "text/plain": [
       "count    3312.000000\n",
       "mean        3.558877\n",
       "std         2.806695\n",
       "min         1.000000\n",
       "25%         1.000000\n",
       "50%         1.000000\n",
       "75%         7.000000\n",
       "max         7.000000\n",
       "Name: popular_dishes, dtype: float64"
      ]
     },
     "execution_count": 155,
     "metadata": {},
     "output_type": "execute_result"
    }
   ],
   "source": [
    "df['popular_dishes'].describe()"
   ]
  },
  {
   "cell_type": "code",
   "execution_count": 156,
   "metadata": {},
   "outputs": [],
   "source": [
    "df['popular_dishes'].fillna(1, inplace=True)"
   ]
  },
  {
   "cell_type": "code",
   "execution_count": 157,
   "metadata": {},
   "outputs": [
    {
     "data": {
      "text/plain": [
       "count    3456.000000\n",
       "mean        2.567708\n",
       "std         1.316285\n",
       "min         1.000000\n",
       "25%         2.000000\n",
       "50%         2.000000\n",
       "75%         3.000000\n",
       "max         8.000000\n",
       "Name: cuisines_offered, dtype: float64"
      ]
     },
     "execution_count": 157,
     "metadata": {},
     "output_type": "execute_result"
    }
   ],
   "source": [
    "df['cuisines_offered'].describe()"
   ]
  },
  {
   "cell_type": "code",
   "execution_count": 158,
   "metadata": {},
   "outputs": [],
   "source": [
    "df['cuisines_offered'].fillna(2, inplace=True)"
   ]
  },
  {
   "cell_type": "code",
   "execution_count": 159,
   "metadata": {},
   "outputs": [
    {
     "data": {
      "text/plain": [
       "0.0        633\n",
       "4.0         53\n",
       "5.0         34\n",
       "6.0         46\n",
       "7.0         37\n",
       "          ... \n",
       "14694.0      1\n",
       "14704.0      1\n",
       "14710.0      2\n",
       "14717.0      1\n",
       "14723.0      2\n",
       "Name: votes, Length: 791, dtype: int64"
      ]
     },
     "execution_count": 159,
     "metadata": {},
     "output_type": "execute_result"
    }
   ],
   "source": [
    "df['votes'].value_counts().sort_index()"
   ]
  },
  {
   "cell_type": "code",
   "execution_count": 160,
   "metadata": {},
   "outputs": [],
   "source": [
    "df['votes'].fillna(0, inplace=True)"
   ]
  },
  {
   "cell_type": "code",
   "execution_count": 161,
   "metadata": {},
   "outputs": [
    {
     "name": "stdout",
     "output_type": "stream",
     "text": [
      "<class 'pandas.core.frame.DataFrame'>\n",
      "RangeIndex: 3484 entries, 0 to 3483\n",
      "Data columns (total 13 columns):\n",
      " #   Column                Non-Null Count  Dtype   \n",
      "---  ------                --------------  -----   \n",
      " 0   id                    3484 non-null   int64   \n",
      " 1   name                  3484 non-null   object  \n",
      " 2   table_bookings        3484 non-null   bool    \n",
      " 3   online_ordering       3484 non-null   bool    \n",
      " 4   location              3484 non-null   category\n",
      " 5   rating                3484 non-null   float64 \n",
      " 6   votes                 3484 non-null   float64 \n",
      " 7   phone                 3435 non-null   object  \n",
      " 8   restaurant_type       3484 non-null   category\n",
      " 9   restaurant_operation  3484 non-null   category\n",
      " 10  popular_dishes        3484 non-null   float64 \n",
      " 11  cuisines_offered      3484 non-null   float64 \n",
      " 12  primary_cuisine       3484 non-null   category\n",
      "dtypes: bool(2), category(4), float64(4), int64(1), object(2)\n",
      "memory usage: 212.6+ KB\n"
     ]
    }
   ],
   "source": [
    "df.info()"
   ]
  },
  {
   "cell_type": "code",
   "execution_count": 162,
   "metadata": {},
   "outputs": [
    {
     "data": {
      "text/plain": [
       "3464                   9901629419\n",
       "3465      8050077699,  9731841212\n",
       "3466      9513071357\\n 9845175617\n",
       "3467                   8123711329\n",
       "3468     9980828620, 080 41153277\n",
       "3469      9341882194,  8277361653\n",
       "3470      8880816666,  8880805555\n",
       "3471    080 28410888\\n 8088111124\n",
       "3472      9591645529\\n 7829200954\n",
       "3473      9742599919\\n 8025505542\n",
       "3474                 080 45128765\n",
       "3475                 080 43707889\n",
       "3476      8088120161,  9738720798\n",
       "3477                   9071381543\n",
       "3478    080 41106602\\n 9902888658\n",
       "3479      8050077699\\n 9731841212\n",
       "3480                          NaN\n",
       "3481    080 40752007,  8861128718\n",
       "3482                   9980923409\n",
       "3483      9500026246,  9000166663\n",
       "Name: phone, dtype: object"
      ]
     },
     "execution_count": 162,
     "metadata": {},
     "output_type": "execute_result"
    }
   ],
   "source": [
    "# Lets investigate the phone column and see if we can have some useful information out of it\n",
    "df['phone'].tail(20)\n",
    "# Maybe we can use the # of phones?"
   ]
  },
  {
   "cell_type": "code",
   "execution_count": 163,
   "metadata": {},
   "outputs": [],
   "source": [
    "df['phone'] = df['phone'].str.replace(\"\\n\", \",\")\n",
    "df['phone'] = df['phone'].str.replace(\"\\r\", \"\")"
   ]
  },
  {
   "cell_type": "code",
   "execution_count": 164,
   "metadata": {},
   "outputs": [],
   "source": [
    "df['phones_count'] = df['phone'].str.count(\",\") + 1"
   ]
  },
  {
   "cell_type": "code",
   "execution_count": 165,
   "metadata": {},
   "outputs": [],
   "source": [
    "df['phones_count'].fillna(1, inplace=True)\n",
    "df.drop('phone', axis=1, inplace=True)"
   ]
  },
  {
   "cell_type": "code",
   "execution_count": 166,
   "metadata": {},
   "outputs": [
    {
     "name": "stdout",
     "output_type": "stream",
     "text": [
      "<class 'pandas.core.frame.DataFrame'>\n",
      "RangeIndex: 3484 entries, 0 to 3483\n",
      "Data columns (total 13 columns):\n",
      " #   Column                Non-Null Count  Dtype   \n",
      "---  ------                --------------  -----   \n",
      " 0   id                    3484 non-null   int64   \n",
      " 1   name                  3484 non-null   object  \n",
      " 2   table_bookings        3484 non-null   bool    \n",
      " 3   online_ordering       3484 non-null   bool    \n",
      " 4   location              3484 non-null   category\n",
      " 5   rating                3484 non-null   float64 \n",
      " 6   votes                 3484 non-null   float64 \n",
      " 7   restaurant_type       3484 non-null   category\n",
      " 8   restaurant_operation  3484 non-null   category\n",
      " 9   popular_dishes        3484 non-null   float64 \n",
      " 10  cuisines_offered      3484 non-null   float64 \n",
      " 11  primary_cuisine       3484 non-null   category\n",
      " 12  phones_count          3484 non-null   float64 \n",
      "dtypes: bool(2), category(4), float64(5), int64(1), object(1)\n",
      "memory usage: 212.6+ KB\n"
     ]
    }
   ],
   "source": [
    "df.info()"
   ]
  },
  {
   "cell_type": "markdown",
   "metadata": {},
   "source": [
    "## End Of Data Cleaning"
   ]
  },
  {
   "cell_type": "markdown",
   "metadata": {},
   "source": [
    "## Lets try to understand the relationship between our target variable and the existing features"
   ]
  },
  {
   "cell_type": "code",
   "execution_count": 180,
   "metadata": {},
   "outputs": [
    {
     "data": {
      "text/html": [
       "<div>\n",
       "<style scoped>\n",
       "    .dataframe tbody tr th:only-of-type {\n",
       "        vertical-align: middle;\n",
       "    }\n",
       "\n",
       "    .dataframe tbody tr th {\n",
       "        vertical-align: top;\n",
       "    }\n",
       "\n",
       "    .dataframe thead th {\n",
       "        text-align: right;\n",
       "    }\n",
       "</style>\n",
       "<table border=\"1\" class=\"dataframe\">\n",
       "  <thead>\n",
       "    <tr style=\"text-align: right;\">\n",
       "      <th></th>\n",
       "      <th>rating</th>\n",
       "      <th>table_bookings</th>\n",
       "      <th>online_ordering</th>\n",
       "      <th>votes</th>\n",
       "      <th>popular_dishes</th>\n",
       "      <th>cuisines_offered</th>\n",
       "      <th>phones_count</th>\n",
       "    </tr>\n",
       "  </thead>\n",
       "  <tbody>\n",
       "    <tr>\n",
       "      <th>rating</th>\n",
       "      <td>1.000000</td>\n",
       "      <td>0.028560</td>\n",
       "      <td>0.395267</td>\n",
       "      <td>0.445376</td>\n",
       "      <td>0.545803</td>\n",
       "      <td>0.264029</td>\n",
       "      <td>0.040035</td>\n",
       "    </tr>\n",
       "    <tr>\n",
       "      <th>table_bookings</th>\n",
       "      <td>0.028560</td>\n",
       "      <td>1.000000</td>\n",
       "      <td>0.073577</td>\n",
       "      <td>-0.016937</td>\n",
       "      <td>0.195662</td>\n",
       "      <td>0.109691</td>\n",
       "      <td>0.101395</td>\n",
       "    </tr>\n",
       "    <tr>\n",
       "      <th>online_ordering</th>\n",
       "      <td>0.395267</td>\n",
       "      <td>0.073577</td>\n",
       "      <td>1.000000</td>\n",
       "      <td>0.275026</td>\n",
       "      <td>0.476503</td>\n",
       "      <td>0.248332</td>\n",
       "      <td>0.166596</td>\n",
       "    </tr>\n",
       "    <tr>\n",
       "      <th>votes</th>\n",
       "      <td>0.445376</td>\n",
       "      <td>-0.016937</td>\n",
       "      <td>0.275026</td>\n",
       "      <td>1.000000</td>\n",
       "      <td>0.407753</td>\n",
       "      <td>0.212510</td>\n",
       "      <td>0.045576</td>\n",
       "    </tr>\n",
       "    <tr>\n",
       "      <th>popular_dishes</th>\n",
       "      <td>0.545803</td>\n",
       "      <td>0.195662</td>\n",
       "      <td>0.476503</td>\n",
       "      <td>0.407753</td>\n",
       "      <td>1.000000</td>\n",
       "      <td>0.338853</td>\n",
       "      <td>0.244246</td>\n",
       "    </tr>\n",
       "    <tr>\n",
       "      <th>cuisines_offered</th>\n",
       "      <td>0.264029</td>\n",
       "      <td>0.109691</td>\n",
       "      <td>0.248332</td>\n",
       "      <td>0.212510</td>\n",
       "      <td>0.338853</td>\n",
       "      <td>1.000000</td>\n",
       "      <td>0.101556</td>\n",
       "    </tr>\n",
       "    <tr>\n",
       "      <th>phones_count</th>\n",
       "      <td>0.040035</td>\n",
       "      <td>0.101395</td>\n",
       "      <td>0.166596</td>\n",
       "      <td>0.045576</td>\n",
       "      <td>0.244246</td>\n",
       "      <td>0.101556</td>\n",
       "      <td>1.000000</td>\n",
       "    </tr>\n",
       "  </tbody>\n",
       "</table>\n",
       "</div>"
      ],
      "text/plain": [
       "                    rating  table_bookings  online_ordering     votes  \\\n",
       "rating            1.000000        0.028560         0.395267  0.445376   \n",
       "table_bookings    0.028560        1.000000         0.073577 -0.016937   \n",
       "online_ordering   0.395267        0.073577         1.000000  0.275026   \n",
       "votes             0.445376       -0.016937         0.275026  1.000000   \n",
       "popular_dishes    0.545803        0.195662         0.476503  0.407753   \n",
       "cuisines_offered  0.264029        0.109691         0.248332  0.212510   \n",
       "phones_count      0.040035        0.101395         0.166596  0.045576   \n",
       "\n",
       "                  popular_dishes  cuisines_offered  phones_count  \n",
       "rating                  0.545803          0.264029      0.040035  \n",
       "table_bookings          0.195662          0.109691      0.101395  \n",
       "online_ordering         0.476503          0.248332      0.166596  \n",
       "votes                   0.407753          0.212510      0.045576  \n",
       "popular_dishes          1.000000          0.338853      0.244246  \n",
       "cuisines_offered        0.338853          1.000000      0.101556  \n",
       "phones_count            0.244246          0.101556      1.000000  "
      ]
     },
     "execution_count": 180,
     "metadata": {},
     "output_type": "execute_result"
    }
   ],
   "source": [
    "# A quick look at the relations between the variables\n",
    "df[['rating', 'table_bookings', 'online_ordering', 'votes', 'popular_dishes', 'cuisines_offered', 'phones_count']].corr()"
   ]
  },
  {
   "cell_type": "markdown",
   "metadata": {},
   "source": [
    "### Online ordering, votes, popular dishes, and cuisines offered are moderately correlated with the restaurant rating."
   ]
  },
  {
   "cell_type": "code",
   "execution_count": 167,
   "metadata": {},
   "outputs": [
    {
     "data": {
      "text/plain": [
       "[<matplotlib.lines.Line2D at 0x1347bed60>]"
      ]
     },
     "execution_count": 167,
     "metadata": {},
     "output_type": "execute_result"
    },
    {
     "data": {
      "image/png": "[encoded data removed]",
      "text/plain": [
       "<Figure size 640x480 with 1 Axes>"
      ]
     },
     "metadata": {},
     "output_type": "display_data"
    }
   ],
   "source": [
    "plt.plot(df['votes'], df['rating'], 'o', alpha=0.4, markersize=1)"
   ]
  },
  {
   "cell_type": "code",
   "execution_count": 168,
   "metadata": {},
   "outputs": [
    {
     "data": {
      "image/png": "[encoded data removed]",
      "text/plain": [
       "<Figure size 640x480 with 1 Axes>"
      ]
     },
     "metadata": {},
     "output_type": "display_data"
    }
   ],
   "source": [
    "sns.scatterplot(x='votes', y='rating', data=df)\n",
    "plt.xscale('log')\n",
    "plt.xticks(rotation=90)\n",
    "plt.show()"
   ]
  },
  {
   "cell_type": "code",
   "execution_count": 169,
   "metadata": {},
   "outputs": [
    {
     "data": {
      "image/png": "[encoded data removed]",
      "text/plain": [
       "<Figure size 640x480 with 1 Axes>"
      ]
     },
     "metadata": {},
     "output_type": "display_data"
    }
   ],
   "source": [
    "sns.boxplot(x='location', y='rating', data=df, whis=10)\n",
    "plt.xticks(rotation=90)\n",
    "plt.show()"
   ]
  },
  {
   "cell_type": "code",
   "execution_count": 170,
   "metadata": {},
   "outputs": [
    {
     "data": {
      "image/png": "[encoded data removed]",
      "text/plain": [
       "<Figure size 640x480 with 1 Axes>"
      ]
     },
     "metadata": {},
     "output_type": "display_data"
    }
   ],
   "source": [
    "sns.boxplot(x='restaurant_type', y='rating', data=df, whis=10)\n",
    "plt.xticks(rotation=90)\n",
    "plt.show()"
   ]
  },
  {
   "cell_type": "code",
   "execution_count": 171,
   "metadata": {},
   "outputs": [
    {
     "data": {
      "image/png": "[encoded data removed]",
      "text/plain": [
       "<Figure size 640x480 with 1 Axes>"
      ]
     },
     "metadata": {},
     "output_type": "display_data"
    }
   ],
   "source": [
    "sns.boxplot(x='restaurant_operation', y='rating', data=df, whis=10)\n",
    "plt.xticks(rotation=90)\n",
    "plt.show()"
   ]
  },
  {
   "cell_type": "code",
   "execution_count": 172,
   "metadata": {},
   "outputs": [
    {
     "data": {
      "image/png": "[encoded data removed]",
      "text/plain": [
       "<Figure size 640x480 with 1 Axes>"
      ]
     },
     "metadata": {},
     "output_type": "display_data"
    }
   ],
   "source": [
    "sns.boxplot(x='popular_dishes', y='rating', data=df, whis=10)\n",
    "plt.xticks(rotation=90)\n",
    "plt.show()"
   ]
  },
  {
   "cell_type": "code",
   "execution_count": 173,
   "metadata": {},
   "outputs": [
    {
     "data": {
      "image/png": "[encoded data removed]",
      "text/plain": [
       "<Figure size 640x480 with 1 Axes>"
      ]
     },
     "metadata": {},
     "output_type": "display_data"
    }
   ],
   "source": [
    "sns.boxplot(x='cuisines_offered', y='rating', data=df, whis=10)\n",
    "plt.xticks(rotation=90)\n",
    "plt.show()"
   ]
  },
  {
   "cell_type": "code",
   "execution_count": 174,
   "metadata": {},
   "outputs": [
    {
     "data": {
      "image/png": "[encoded data removed]",
      "text/plain": [
       "<Figure size 640x480 with 1 Axes>"
      ]
     },
     "metadata": {},
     "output_type": "display_data"
    }
   ],
   "source": [
    "sns.boxplot(x='primary_cuisine', y='rating', data=df, whis=10)\n",
    "plt.xticks(rotation=90)\n",
    "plt.show()"
   ]
  },
  {
   "cell_type": "code",
   "execution_count": 175,
   "metadata": {},
   "outputs": [
    {
     "data": {
      "image/png": "[encoded data removed]",
      "text/plain": [
       "<Figure size 640x480 with 1 Axes>"
      ]
     },
     "metadata": {},
     "output_type": "display_data"
    }
   ],
   "source": [
    "sns.boxplot(x='phones_count', y='rating', data=df, whis=10)\n",
    "plt.xticks(rotation=90)\n",
    "plt.show()\n",
    "# Looks like there's no 'big' difference between having 1 or 2 phone numbers"
   ]
  },
  {
   "cell_type": "code",
   "execution_count": 176,
   "metadata": {},
   "outputs": [
    {
     "data": {
      "image/png": "[encoded data removed]",
      "text/plain": [
       "<Figure size 640x480 with 1 Axes>"
      ]
     },
     "metadata": {},
     "output_type": "display_data"
    }
   ],
   "source": [
    "sns.boxplot(x='table_bookings', y='rating', data=df, whis=10)\n",
    "plt.xticks(rotation=90)\n",
    "plt.show()"
   ]
  },
  {
   "cell_type": "code",
   "execution_count": 183,
   "metadata": {},
   "outputs": [
    {
     "data": {
      "text/plain": [
       "True     2170\n",
       "False    1314\n",
       "Name: table_bookings, dtype: int64"
      ]
     },
     "execution_count": 183,
     "metadata": {},
     "output_type": "execute_result"
    }
   ],
   "source": [
    "# I want to make sure that there's enough amount of data in each category\n",
    "df['table_bookings'].value_counts()"
   ]
  },
  {
   "cell_type": "code",
   "execution_count": 177,
   "metadata": {},
   "outputs": [
    {
     "data": {
      "image/png": "[encoded data removed]",
      "text/plain": [
       "<Figure size 640x480 with 1 Axes>"
      ]
     },
     "metadata": {},
     "output_type": "display_data"
    }
   ],
   "source": [
    "sns.boxplot(x='online_ordering', y='rating', data=df, whis=10)\n",
    "plt.xticks(rotation=90)\n",
    "plt.show()"
   ]
  },
  {
   "cell_type": "code",
   "execution_count": 182,
   "metadata": {},
   "outputs": [
    {
     "data": {
      "text/plain": [
       "False    2759\n",
       "True      725\n",
       "Name: online_ordering, dtype: int64"
      ]
     },
     "execution_count": 182,
     "metadata": {},
     "output_type": "execute_result"
    }
   ],
   "source": [
    "df['online_ordering'].value_counts()"
   ]
  },
  {
   "cell_type": "code",
   "execution_count": null,
   "metadata": {},
   "outputs": [],
   "source": [
    "# Because our target variable is the restaurant rate and it's a continues variable, so, this is a regression problem,\n",
    "# And models that can be used for regression is (Linear Regression, )"
   ]
  },
  {
   "cell_type": "code",
   "execution_count": 184,
   "metadata": {},
   "outputs": [
    {
     "name": "stdout",
     "output_type": "stream",
     "text": [
      "<class 'pandas.core.frame.DataFrame'>\n",
      "RangeIndex: 3484 entries, 0 to 3483\n",
      "Data columns (total 13 columns):\n",
      " #   Column                Non-Null Count  Dtype   \n",
      "---  ------                --------------  -----   \n",
      " 0   id                    3484 non-null   int64   \n",
      " 1   name                  3484 non-null   object  \n",
      " 2   table_bookings        3484 non-null   bool    \n",
      " 3   online_ordering       3484 non-null   bool    \n",
      " 4   location              3484 non-null   category\n",
      " 5   rating                3484 non-null   float64 \n",
      " 6   votes                 3484 non-null   float64 \n",
      " 7   restaurant_type       3484 non-null   category\n",
      " 8   restaurant_operation  3484 non-null   category\n",
      " 9   popular_dishes        3484 non-null   float64 \n",
      " 10  cuisines_offered      3484 non-null   float64 \n",
      " 11  primary_cuisine       3484 non-null   category\n",
      " 12  phones_count          3484 non-null   float64 \n",
      "dtypes: bool(2), category(4), float64(5), int64(1), object(1)\n",
      "memory usage: 212.6+ KB\n"
     ]
    }
   ],
   "source": [
    "# Data Preprocessing\n",
    "df.info()"
   ]
  },
  {
   "cell_type": "code",
   "execution_count": 258,
   "metadata": {},
   "outputs": [],
   "source": [
    "# Lets first to using all the data as it is in LinearRegression\n",
    "# First, we need to convert the categorical variables to something else because regression is all about numbers\n",
    "# Lets encode them and drop unwanted columns\n",
    "cols_to_encode = ['restaurant_type', 'location', 'restaurant_operation', 'primary_cuisine', 'table_bookings', 'online_ordering']\n",
    "cols_to_drop = ['id', 'name']\n",
    "df.drop(cols_to_drop, axis=1, inplace=True)\n",
    "df[cols_to_encode] = df[cols_to_encode].apply(lambda x: LabelEncoder().fit_transform(x))"
   ]
  },
  {
   "cell_type": "code",
   "execution_count": 259,
   "metadata": {},
   "outputs": [
    {
     "data": {
      "text/html": [
       "<div>\n",
       "<style scoped>\n",
       "    .dataframe tbody tr th:only-of-type {\n",
       "        vertical-align: middle;\n",
       "    }\n",
       "\n",
       "    .dataframe tbody tr th {\n",
       "        vertical-align: top;\n",
       "    }\n",
       "\n",
       "    .dataframe thead th {\n",
       "        text-align: right;\n",
       "    }\n",
       "</style>\n",
       "<table border=\"1\" class=\"dataframe\">\n",
       "  <thead>\n",
       "    <tr style=\"text-align: right;\">\n",
       "      <th></th>\n",
       "      <th>table_bookings</th>\n",
       "      <th>online_ordering</th>\n",
       "      <th>location</th>\n",
       "      <th>rating</th>\n",
       "      <th>votes</th>\n",
       "      <th>restaurant_type</th>\n",
       "      <th>restaurant_operation</th>\n",
       "      <th>popular_dishes</th>\n",
       "      <th>cuisines_offered</th>\n",
       "      <th>primary_cuisine</th>\n",
       "      <th>phones_count</th>\n",
       "    </tr>\n",
       "  </thead>\n",
       "  <tbody>\n",
       "    <tr>\n",
       "      <th>0</th>\n",
       "      <td>0</td>\n",
       "      <td>0</td>\n",
       "      <td>3</td>\n",
       "      <td>4.200000</td>\n",
       "      <td>1651.0</td>\n",
       "      <td>2</td>\n",
       "      <td>5</td>\n",
       "      <td>7.0</td>\n",
       "      <td>4.0</td>\n",
       "      <td>0</td>\n",
       "      <td>1.0</td>\n",
       "    </tr>\n",
       "    <tr>\n",
       "      <th>1</th>\n",
       "      <td>0</td>\n",
       "      <td>0</td>\n",
       "      <td>2</td>\n",
       "      <td>3.763803</td>\n",
       "      <td>0.0</td>\n",
       "      <td>3</td>\n",
       "      <td>2</td>\n",
       "      <td>1.0</td>\n",
       "      <td>1.0</td>\n",
       "      <td>0</td>\n",
       "      <td>2.0</td>\n",
       "    </tr>\n",
       "    <tr>\n",
       "      <th>2</th>\n",
       "      <td>0</td>\n",
       "      <td>0</td>\n",
       "      <td>1</td>\n",
       "      <td>2.800000</td>\n",
       "      <td>161.0</td>\n",
       "      <td>2</td>\n",
       "      <td>4</td>\n",
       "      <td>7.0</td>\n",
       "      <td>3.0</td>\n",
       "      <td>1</td>\n",
       "      <td>2.0</td>\n",
       "    </tr>\n",
       "    <tr>\n",
       "      <th>3</th>\n",
       "      <td>1</td>\n",
       "      <td>0</td>\n",
       "      <td>3</td>\n",
       "      <td>4.000000</td>\n",
       "      <td>401.0</td>\n",
       "      <td>1</td>\n",
       "      <td>4</td>\n",
       "      <td>7.0</td>\n",
       "      <td>5.0</td>\n",
       "      <td>4</td>\n",
       "      <td>2.0</td>\n",
       "    </tr>\n",
       "    <tr>\n",
       "      <th>4</th>\n",
       "      <td>0</td>\n",
       "      <td>1</td>\n",
       "      <td>0</td>\n",
       "      <td>3.800000</td>\n",
       "      <td>11.0</td>\n",
       "      <td>1</td>\n",
       "      <td>4</td>\n",
       "      <td>1.0</td>\n",
       "      <td>2.0</td>\n",
       "      <td>4</td>\n",
       "      <td>1.0</td>\n",
       "    </tr>\n",
       "  </tbody>\n",
       "</table>\n",
       "</div>"
      ],
      "text/plain": [
       "   table_bookings  online_ordering  location    rating   votes  \\\n",
       "0               0                0         3  4.200000  1651.0   \n",
       "1               0                0         2  3.763803     0.0   \n",
       "2               0                0         1  2.800000   161.0   \n",
       "3               1                0         3  4.000000   401.0   \n",
       "4               0                1         0  3.800000    11.0   \n",
       "\n",
       "   restaurant_type  restaurant_operation  popular_dishes  cuisines_offered  \\\n",
       "0                2                     5             7.0               4.0   \n",
       "1                3                     2             1.0               1.0   \n",
       "2                2                     4             7.0               3.0   \n",
       "3                1                     4             7.0               5.0   \n",
       "4                1                     4             1.0               2.0   \n",
       "\n",
       "   primary_cuisine  phones_count  \n",
       "0                0           1.0  \n",
       "1                0           2.0  \n",
       "2                1           2.0  \n",
       "3                4           2.0  \n",
       "4                4           1.0  "
      ]
     },
     "execution_count": 259,
     "metadata": {},
     "output_type": "execute_result"
    }
   ],
   "source": [
    "df.head()"
   ]
  },
  {
   "cell_type": "code",
   "execution_count": 260,
   "metadata": {},
   "outputs": [
    {
     "data": {
      "text/plain": [
       "0.36537480495934405"
      ]
     },
     "execution_count": 260,
     "metadata": {},
     "output_type": "execute_result"
    }
   ],
   "source": [
    "X = df.drop('rating', axis=1).values\n",
    "y = df['rating'].values\n",
    "X_train, X_test, y_train, y_test = train_test_split(X, y, test_size=0.2, random_state=42)\n",
    "reg = LinearRegression()\n",
    "reg.fit(X_train, y_train)\n",
    "reg.score(X_test, y_test)"
   ]
  },
  {
   "cell_type": "markdown",
   "metadata": {},
   "source": [
    "### Normal Linear Regression yields a 36.5% score"
   ]
  },
  {
   "cell_type": "code",
   "execution_count": 277,
   "metadata": {},
   "outputs": [
    {
     "data": {
      "text/plain": [
       "0.3653748049593528"
      ]
     },
     "execution_count": 277,
     "metadata": {},
     "output_type": "execute_result"
    }
   ],
   "source": [
    "# Let try to normalize our variables and then try LinearRegression again\n",
    "X = StandardScaler().fit_transform(df.drop('rating', axis=1))\n",
    "y = df['rating'].values\n",
    "X_train, X_test, y_train, y_test = train_test_split(X, y, test_size=0.2, random_state=42)\n",
    "reg = LinearRegression()\n",
    "reg.fit(X_train, y_train)\n",
    "reg.score(X_test, y_test)"
   ]
  },
  {
   "cell_type": "markdown",
   "metadata": {},
   "source": [
    "### No big difference, but lets keep this normalization and try a different model"
   ]
  },
  {
   "cell_type": "code",
   "execution_count": 284,
   "metadata": {},
   "outputs": [
    {
     "data": {
      "text/plain": [
       "0.7262183045221603"
      ]
     },
     "execution_count": 284,
     "metadata": {},
     "output_type": "execute_result"
    }
   ],
   "source": [
    "X = StandardScaler().fit_transform(df.drop('rating', axis=1))\n",
    "y = df['rating'].values\n",
    "X_train, X_test, y_train, y_test = train_test_split(X, y, test_size=0.2, random_state=42)\n",
    "rf_reg = RandomForestRegressor()\n",
    "rf_reg.fit(X_train, y_train)\n",
    "rf_reg.score(X_test, y_test)"
   ]
  },
  {
   "cell_type": "markdown",
   "metadata": {},
   "source": [
    "### RandomForestRegressor yields a 73% score, Let see if we can do better!"
   ]
  },
  {
   "cell_type": "code",
   "execution_count": 282,
   "metadata": {},
   "outputs": [
    {
     "data": {
      "text/plain": [
       "0.5391786656071211"
      ]
     },
     "execution_count": 282,
     "metadata": {},
     "output_type": "execute_result"
    }
   ],
   "source": [
    "X = StandardScaler().fit_transform(df.drop('rating', axis=1))\n",
    "y = df['rating'].values\n",
    "X_train, X_test, y_train, y_test = train_test_split(X, y, test_size=0.2, random_state=42)\n",
    "dt_reg = DecisionTreeRegressor()\n",
    "dt_reg.fit(X_train, y_train)\n",
    "dt_reg.score(X_test, y_test)"
   ]
  },
  {
   "cell_type": "markdown",
   "metadata": {},
   "source": [
    "### Lets stick with the RandomForestRegressor and see if we can choose better parameters for it"
   ]
  },
  {
   "cell_type": "code",
   "execution_count": 303,
   "metadata": {},
   "outputs": [
    {
     "name": "stdout",
     "output_type": "stream",
     "text": [
      "[0.71707545 0.79126403 0.82297303 0.82279723 0.78472559 0.83761771\n",
      " 0.74337883 0.8242645  0.84728976 0.81095463]\n",
      "0.8002340756761839\n"
     ]
    }
   ],
   "source": [
    "kf = KFold(n_splits=10, shuffle=True, random_state=42)\n",
    "X = StandardScaler().fit_transform(df.drop('rating', axis=1))\n",
    "y = df['rating'].values\n",
    "rf_reg = RandomForestRegressor()\n",
    "cv_results = cross_val_score(rf_reg, X, y, cv=kf)\n",
    "print(cv_results)\n",
    "print(np.mean(cv_results))"
   ]
  },
  {
   "cell_type": "markdown",
   "metadata": {},
   "source": [
    "### Using only cross validation we can get higher score up to 80%!"
   ]
  },
  {
   "cell_type": "code",
   "execution_count": 308,
   "metadata": {},
   "outputs": [
    {
     "name": "stdout",
     "output_type": "stream",
     "text": [
      "{'n_estimators': 150, 'min_samples_split': 2, 'max_leaf_nodes': 8100, 'max_depth': 16} 0.7974508262018329\n"
     ]
    }
   ],
   "source": [
    "# n_estimators = 100, max_depth, min_samples_split = 2, max_leaf_nodes \n",
    "kf = KFold(n_splits=10, shuffle=True, random_state=42)\n",
    "X = StandardScaler().fit_transform(df.drop('rating', axis=1))\n",
    "y = df['rating'].values\n",
    "param_grid = {\n",
    "    'n_estimators': np.arange(100, 200, 10),\n",
    "    'max_depth': np.arange(5, 20, 1),\n",
    "    'min_samples_split': np.arange(1, 10, 1),\n",
    "    'max_leaf_nodes': np.arange(1000, 10000, 100)\n",
    "}\n",
    "rf_reg = RandomForestRegressor()\n",
    "rf_reg_cv = RandomizedSearchCV(rf_reg, param_grid, cv=kf, n_iter=10)\n",
    "rf_reg_cv.fit(X_train, y_train)\n",
    "print(rf_reg_cv.best_params_, rf_reg_cv.best_score_)"
   ]
  },
  {
   "cell_type": "markdown",
   "metadata": {},
   "source": [
    "### Apparently the default parameters perform better! Lets stick with it for now"
   ]
  },
  {
   "cell_type": "code",
   "execution_count": 317,
   "metadata": {},
   "outputs": [
    {
     "name": "stderr",
     "output_type": "stream",
     "text": [
      "/Users/omar/Desktop/Restaurants/restaurants_rating_env/lib/python3.9/site-packages/sklearn/model_selection/_validation.py:776: UserWarning: Scoring failed. The score on this train-test partition for these parameters will be set to nan. Details: \n",
      "Traceback (most recent call last):\n",
      "  File \"/Users/omar/Desktop/Restaurants/restaurants_rating_env/lib/python3.9/site-packages/sklearn/model_selection/_validation.py\", line 767, in _score\n",
      "    scores = scorer(estimator, X_test, y_test)\n",
      "  File \"/Users/omar/Desktop/Restaurants/restaurants_rating_env/lib/python3.9/site-packages/sklearn/metrics/_scorer.py\", line 219, in __call__\n",
      "    return self._score(\n",
      "  File \"/Users/omar/Desktop/Restaurants/restaurants_rating_env/lib/python3.9/site-packages/sklearn/metrics/_scorer.py\", line 267, in _score\n",
      "    return self._sign * self._score_func(y_true, y_pred, **self._kwargs)\n",
      "  File \"/Users/omar/Desktop/Restaurants/restaurants_rating_env/lib/python3.9/site-packages/sklearn/metrics/_classification.py\", line 211, in accuracy_score\n",
      "    y_type, y_true, y_pred = _check_targets(y_true, y_pred)\n",
      "  File \"/Users/omar/Desktop/Restaurants/restaurants_rating_env/lib/python3.9/site-packages/sklearn/metrics/_classification.py\", line 104, in _check_targets\n",
      "    raise ValueError(\"{0} is not supported\".format(y_type))\n",
      "ValueError: continuous is not supported\n",
      "\n",
      "  warnings.warn(\n",
      "/Users/omar/Desktop/Restaurants/restaurants_rating_env/lib/python3.9/site-packages/sklearn/model_selection/_validation.py:776: UserWarning: Scoring failed. The score on this train-test partition for these parameters will be set to nan. Details: \n",
      "Traceback (most recent call last):\n",
      "  File \"/Users/omar/Desktop/Restaurants/restaurants_rating_env/lib/python3.9/site-packages/sklearn/model_selection/_validation.py\", line 767, in _score\n",
      "    scores = scorer(estimator, X_test, y_test)\n",
      "  File \"/Users/omar/Desktop/Restaurants/restaurants_rating_env/lib/python3.9/site-packages/sklearn/metrics/_scorer.py\", line 219, in __call__\n",
      "    return self._score(\n",
      "  File \"/Users/omar/Desktop/Restaurants/restaurants_rating_env/lib/python3.9/site-packages/sklearn/metrics/_scorer.py\", line 267, in _score\n",
      "    return self._sign * self._score_func(y_true, y_pred, **self._kwargs)\n",
      "  File \"/Users/omar/Desktop/Restaurants/restaurants_rating_env/lib/python3.9/site-packages/sklearn/metrics/_classification.py\", line 211, in accuracy_score\n",
      "    y_type, y_true, y_pred = _check_targets(y_true, y_pred)\n",
      "  File \"/Users/omar/Desktop/Restaurants/restaurants_rating_env/lib/python3.9/site-packages/sklearn/metrics/_classification.py\", line 104, in _check_targets\n",
      "    raise ValueError(\"{0} is not supported\".format(y_type))\n",
      "ValueError: continuous is not supported\n",
      "\n",
      "  warnings.warn(\n",
      "/Users/omar/Desktop/Restaurants/restaurants_rating_env/lib/python3.9/site-packages/sklearn/model_selection/_validation.py:776: UserWarning: Scoring failed. The score on this train-test partition for these parameters will be set to nan. Details: \n",
      "Traceback (most recent call last):\n",
      "  File \"/Users/omar/Desktop/Restaurants/restaurants_rating_env/lib/python3.9/site-packages/sklearn/model_selection/_validation.py\", line 767, in _score\n",
      "    scores = scorer(estimator, X_test, y_test)\n",
      "  File \"/Users/omar/Desktop/Restaurants/restaurants_rating_env/lib/python3.9/site-packages/sklearn/metrics/_scorer.py\", line 219, in __call__\n",
      "    return self._score(\n",
      "  File \"/Users/omar/Desktop/Restaurants/restaurants_rating_env/lib/python3.9/site-packages/sklearn/metrics/_scorer.py\", line 267, in _score\n",
      "    return self._sign * self._score_func(y_true, y_pred, **self._kwargs)\n",
      "  File \"/Users/omar/Desktop/Restaurants/restaurants_rating_env/lib/python3.9/site-packages/sklearn/metrics/_classification.py\", line 211, in accuracy_score\n",
      "    y_type, y_true, y_pred = _check_targets(y_true, y_pred)\n",
      "  File \"/Users/omar/Desktop/Restaurants/restaurants_rating_env/lib/python3.9/site-packages/sklearn/metrics/_classification.py\", line 104, in _check_targets\n",
      "    raise ValueError(\"{0} is not supported\".format(y_type))\n",
      "ValueError: continuous is not supported\n",
      "\n",
      "  warnings.warn(\n",
      "/Users/omar/Desktop/Restaurants/restaurants_rating_env/lib/python3.9/site-packages/sklearn/model_selection/_validation.py:776: UserWarning: Scoring failed. The score on this train-test partition for these parameters will be set to nan. Details: \n",
      "Traceback (most recent call last):\n",
      "  File \"/Users/omar/Desktop/Restaurants/restaurants_rating_env/lib/python3.9/site-packages/sklearn/model_selection/_validation.py\", line 767, in _score\n",
      "    scores = scorer(estimator, X_test, y_test)\n",
      "  File \"/Users/omar/Desktop/Restaurants/restaurants_rating_env/lib/python3.9/site-packages/sklearn/metrics/_scorer.py\", line 219, in __call__\n",
      "    return self._score(\n",
      "  File \"/Users/omar/Desktop/Restaurants/restaurants_rating_env/lib/python3.9/site-packages/sklearn/metrics/_scorer.py\", line 267, in _score\n",
      "    return self._sign * self._score_func(y_true, y_pred, **self._kwargs)\n",
      "  File \"/Users/omar/Desktop/Restaurants/restaurants_rating_env/lib/python3.9/site-packages/sklearn/metrics/_classification.py\", line 211, in accuracy_score\n",
      "    y_type, y_true, y_pred = _check_targets(y_true, y_pred)\n",
      "  File \"/Users/omar/Desktop/Restaurants/restaurants_rating_env/lib/python3.9/site-packages/sklearn/metrics/_classification.py\", line 104, in _check_targets\n",
      "    raise ValueError(\"{0} is not supported\".format(y_type))\n",
      "ValueError: continuous is not supported\n",
      "\n",
      "  warnings.warn(\n",
      "/Users/omar/Desktop/Restaurants/restaurants_rating_env/lib/python3.9/site-packages/sklearn/model_selection/_validation.py:776: UserWarning: Scoring failed. The score on this train-test partition for these parameters will be set to nan. Details: \n",
      "Traceback (most recent call last):\n",
      "  File \"/Users/omar/Desktop/Restaurants/restaurants_rating_env/lib/python3.9/site-packages/sklearn/model_selection/_validation.py\", line 767, in _score\n",
      "    scores = scorer(estimator, X_test, y_test)\n",
      "  File \"/Users/omar/Desktop/Restaurants/restaurants_rating_env/lib/python3.9/site-packages/sklearn/metrics/_scorer.py\", line 219, in __call__\n",
      "    return self._score(\n",
      "  File \"/Users/omar/Desktop/Restaurants/restaurants_rating_env/lib/python3.9/site-packages/sklearn/metrics/_scorer.py\", line 267, in _score\n",
      "    return self._sign * self._score_func(y_true, y_pred, **self._kwargs)\n",
      "  File \"/Users/omar/Desktop/Restaurants/restaurants_rating_env/lib/python3.9/site-packages/sklearn/metrics/_classification.py\", line 211, in accuracy_score\n",
      "    y_type, y_true, y_pred = _check_targets(y_true, y_pred)\n",
      "  File \"/Users/omar/Desktop/Restaurants/restaurants_rating_env/lib/python3.9/site-packages/sklearn/metrics/_classification.py\", line 104, in _check_targets\n",
      "    raise ValueError(\"{0} is not supported\".format(y_type))\n",
      "ValueError: continuous is not supported\n",
      "\n",
      "  warnings.warn(\n",
      "/Users/omar/Desktop/Restaurants/restaurants_rating_env/lib/python3.9/site-packages/sklearn/model_selection/_validation.py:776: UserWarning: Scoring failed. The score on this train-test partition for these parameters will be set to nan. Details: \n",
      "Traceback (most recent call last):\n",
      "  File \"/Users/omar/Desktop/Restaurants/restaurants_rating_env/lib/python3.9/site-packages/sklearn/model_selection/_validation.py\", line 767, in _score\n",
      "    scores = scorer(estimator, X_test, y_test)\n",
      "  File \"/Users/omar/Desktop/Restaurants/restaurants_rating_env/lib/python3.9/site-packages/sklearn/metrics/_scorer.py\", line 219, in __call__\n",
      "    return self._score(\n",
      "  File \"/Users/omar/Desktop/Restaurants/restaurants_rating_env/lib/python3.9/site-packages/sklearn/metrics/_scorer.py\", line 267, in _score\n",
      "    return self._sign * self._score_func(y_true, y_pred, **self._kwargs)\n",
      "  File \"/Users/omar/Desktop/Restaurants/restaurants_rating_env/lib/python3.9/site-packages/sklearn/metrics/_classification.py\", line 211, in accuracy_score\n",
      "    y_type, y_true, y_pred = _check_targets(y_true, y_pred)\n",
      "  File \"/Users/omar/Desktop/Restaurants/restaurants_rating_env/lib/python3.9/site-packages/sklearn/metrics/_classification.py\", line 104, in _check_targets\n",
      "    raise ValueError(\"{0} is not supported\".format(y_type))\n",
      "ValueError: continuous is not supported\n",
      "\n",
      "  warnings.warn(\n",
      "/Users/omar/Desktop/Restaurants/restaurants_rating_env/lib/python3.9/site-packages/sklearn/model_selection/_validation.py:776: UserWarning: Scoring failed. The score on this train-test partition for these parameters will be set to nan. Details: \n",
      "Traceback (most recent call last):\n",
      "  File \"/Users/omar/Desktop/Restaurants/restaurants_rating_env/lib/python3.9/site-packages/sklearn/model_selection/_validation.py\", line 767, in _score\n",
      "    scores = scorer(estimator, X_test, y_test)\n",
      "  File \"/Users/omar/Desktop/Restaurants/restaurants_rating_env/lib/python3.9/site-packages/sklearn/metrics/_scorer.py\", line 219, in __call__\n",
      "    return self._score(\n",
      "  File \"/Users/omar/Desktop/Restaurants/restaurants_rating_env/lib/python3.9/site-packages/sklearn/metrics/_scorer.py\", line 267, in _score\n",
      "    return self._sign * self._score_func(y_true, y_pred, **self._kwargs)\n",
      "  File \"/Users/omar/Desktop/Restaurants/restaurants_rating_env/lib/python3.9/site-packages/sklearn/metrics/_classification.py\", line 211, in accuracy_score\n",
      "    y_type, y_true, y_pred = _check_targets(y_true, y_pred)\n",
      "  File \"/Users/omar/Desktop/Restaurants/restaurants_rating_env/lib/python3.9/site-packages/sklearn/metrics/_classification.py\", line 104, in _check_targets\n",
      "    raise ValueError(\"{0} is not supported\".format(y_type))\n",
      "ValueError: continuous is not supported\n",
      "\n",
      "  warnings.warn(\n",
      "/Users/omar/Desktop/Restaurants/restaurants_rating_env/lib/python3.9/site-packages/sklearn/model_selection/_validation.py:776: UserWarning: Scoring failed. The score on this train-test partition for these parameters will be set to nan. Details: \n",
      "Traceback (most recent call last):\n",
      "  File \"/Users/omar/Desktop/Restaurants/restaurants_rating_env/lib/python3.9/site-packages/sklearn/model_selection/_validation.py\", line 767, in _score\n",
      "    scores = scorer(estimator, X_test, y_test)\n",
      "  File \"/Users/omar/Desktop/Restaurants/restaurants_rating_env/lib/python3.9/site-packages/sklearn/metrics/_scorer.py\", line 219, in __call__\n",
      "    return self._score(\n",
      "  File \"/Users/omar/Desktop/Restaurants/restaurants_rating_env/lib/python3.9/site-packages/sklearn/metrics/_scorer.py\", line 267, in _score\n",
      "    return self._sign * self._score_func(y_true, y_pred, **self._kwargs)\n",
      "  File \"/Users/omar/Desktop/Restaurants/restaurants_rating_env/lib/python3.9/site-packages/sklearn/metrics/_classification.py\", line 211, in accuracy_score\n",
      "    y_type, y_true, y_pred = _check_targets(y_true, y_pred)\n",
      "  File \"/Users/omar/Desktop/Restaurants/restaurants_rating_env/lib/python3.9/site-packages/sklearn/metrics/_classification.py\", line 104, in _check_targets\n",
      "    raise ValueError(\"{0} is not supported\".format(y_type))\n",
      "ValueError: continuous is not supported\n",
      "\n",
      "  warnings.warn(\n",
      "/Users/omar/Desktop/Restaurants/restaurants_rating_env/lib/python3.9/site-packages/sklearn/model_selection/_validation.py:776: UserWarning: Scoring failed. The score on this train-test partition for these parameters will be set to nan. Details: \n",
      "Traceback (most recent call last):\n",
      "  File \"/Users/omar/Desktop/Restaurants/restaurants_rating_env/lib/python3.9/site-packages/sklearn/model_selection/_validation.py\", line 767, in _score\n",
      "    scores = scorer(estimator, X_test, y_test)\n",
      "  File \"/Users/omar/Desktop/Restaurants/restaurants_rating_env/lib/python3.9/site-packages/sklearn/metrics/_scorer.py\", line 219, in __call__\n",
      "    return self._score(\n",
      "  File \"/Users/omar/Desktop/Restaurants/restaurants_rating_env/lib/python3.9/site-packages/sklearn/metrics/_scorer.py\", line 267, in _score\n",
      "    return self._sign * self._score_func(y_true, y_pred, **self._kwargs)\n",
      "  File \"/Users/omar/Desktop/Restaurants/restaurants_rating_env/lib/python3.9/site-packages/sklearn/metrics/_classification.py\", line 211, in accuracy_score\n",
      "    y_type, y_true, y_pred = _check_targets(y_true, y_pred)\n",
      "  File \"/Users/omar/Desktop/Restaurants/restaurants_rating_env/lib/python3.9/site-packages/sklearn/metrics/_classification.py\", line 104, in _check_targets\n",
      "    raise ValueError(\"{0} is not supported\".format(y_type))\n",
      "ValueError: continuous is not supported\n",
      "\n",
      "  warnings.warn(\n"
     ]
    },
    {
     "name": "stdout",
     "output_type": "stream",
     "text": [
      "                      importance\n",
      "votes                   0.504344\n",
      "popular_dishes          0.180205\n",
      "location                0.078863\n",
      "cuisines_offered        0.064083\n",
      "primary_cuisine         0.051195\n",
      "restaurant_type         0.040087\n",
      "phones_count            0.025810\n",
      "table_bookings          0.022778\n",
      "restaurant_operation    0.019781\n",
      "online_ordering         0.012854\n",
      "                      importance\n",
      "votes                   0.515021\n",
      "popular_dishes          0.170282\n",
      "location                0.078763\n",
      "cuisines_offered        0.063024\n",
      "primary_cuisine         0.053943\n",
      "restaurant_type         0.038230\n",
      "phones_count            0.025888\n",
      "table_bookings          0.023273\n",
      "restaurant_operation    0.018481\n",
      "online_ordering         0.013093\n",
      "                      importance\n",
      "votes                   0.575842\n",
      "popular_dishes          0.104941\n",
      "location                0.076244\n",
      "cuisines_offered        0.066821\n",
      "primary_cuisine         0.055779\n",
      "restaurant_type         0.038580\n",
      "phones_count            0.024790\n",
      "table_bookings          0.024027\n",
      "restaurant_operation    0.019723\n",
      "online_ordering         0.013254\n",
      "                      importance\n",
      "votes                   0.543787\n",
      "popular_dishes          0.146396\n",
      "location                0.077508\n",
      "cuisines_offered        0.061158\n",
      "primary_cuisine         0.051439\n",
      "restaurant_type         0.036454\n",
      "phones_count            0.025314\n",
      "table_bookings          0.024095\n",
      "restaurant_operation    0.020109\n",
      "online_ordering         0.013739\n",
      "                      importance\n",
      "votes                   0.555280\n",
      "popular_dishes          0.132288\n",
      "location                0.075614\n",
      "cuisines_offered        0.059849\n",
      "primary_cuisine         0.052509\n",
      "restaurant_type         0.040960\n",
      "phones_count            0.026712\n",
      "table_bookings          0.023482\n",
      "restaurant_operation    0.020088\n",
      "online_ordering         0.013218\n",
      "                      importance\n",
      "votes                   0.479755\n",
      "popular_dishes          0.200190\n",
      "location                0.082070\n",
      "cuisines_offered        0.066578\n",
      "primary_cuisine         0.050741\n",
      "restaurant_type         0.040114\n",
      "phones_count            0.025305\n",
      "table_bookings          0.022964\n",
      "restaurant_operation    0.018700\n",
      "online_ordering         0.013584\n",
      "                      importance\n",
      "votes                   0.532753\n",
      "popular_dishes          0.148712\n",
      "location                0.081039\n",
      "cuisines_offered        0.064316\n",
      "primary_cuisine         0.055980\n",
      "restaurant_type         0.038648\n",
      "phones_count            0.025521\n",
      "table_bookings          0.022051\n",
      "restaurant_operation    0.019377\n",
      "online_ordering         0.011602\n",
      "                      importance\n",
      "votes                   0.485664\n",
      "popular_dishes          0.200423\n",
      "location                0.079951\n",
      "cuisines_offered        0.062182\n",
      "primary_cuisine         0.052205\n",
      "restaurant_type         0.039214\n",
      "phones_count            0.025736\n",
      "table_bookings          0.021808\n",
      "restaurant_operation    0.019957\n",
      "online_ordering         0.012861\n",
      "                      importance\n",
      "votes                   0.502776\n",
      "popular_dishes          0.180834\n",
      "location                0.078594\n",
      "cuisines_offered        0.063200\n",
      "primary_cuisine         0.052378\n",
      "restaurant_type         0.040693\n",
      "phones_count            0.027038\n",
      "table_bookings          0.022884\n",
      "restaurant_operation    0.018809\n",
      "online_ordering         0.012795\n",
      "                      importance\n",
      "votes                   0.560766\n",
      "popular_dishes          0.121512\n",
      "location                0.079155\n",
      "cuisines_offered        0.062885\n",
      "primary_cuisine         0.053600\n",
      "restaurant_type         0.041270\n",
      "phones_count            0.025925\n",
      "table_bookings          0.023582\n",
      "restaurant_operation    0.017750\n",
      "online_ordering         0.013556\n"
     ]
    },
    {
     "name": "stderr",
     "output_type": "stream",
     "text": [
      "/Users/omar/Desktop/Restaurants/restaurants_rating_env/lib/python3.9/site-packages/sklearn/model_selection/_validation.py:776: UserWarning: Scoring failed. The score on this train-test partition for these parameters will be set to nan. Details: \n",
      "Traceback (most recent call last):\n",
      "  File \"/Users/omar/Desktop/Restaurants/restaurants_rating_env/lib/python3.9/site-packages/sklearn/model_selection/_validation.py\", line 767, in _score\n",
      "    scores = scorer(estimator, X_test, y_test)\n",
      "  File \"/Users/omar/Desktop/Restaurants/restaurants_rating_env/lib/python3.9/site-packages/sklearn/metrics/_scorer.py\", line 219, in __call__\n",
      "    return self._score(\n",
      "  File \"/Users/omar/Desktop/Restaurants/restaurants_rating_env/lib/python3.9/site-packages/sklearn/metrics/_scorer.py\", line 267, in _score\n",
      "    return self._sign * self._score_func(y_true, y_pred, **self._kwargs)\n",
      "  File \"/Users/omar/Desktop/Restaurants/restaurants_rating_env/lib/python3.9/site-packages/sklearn/metrics/_classification.py\", line 211, in accuracy_score\n",
      "    y_type, y_true, y_pred = _check_targets(y_true, y_pred)\n",
      "  File \"/Users/omar/Desktop/Restaurants/restaurants_rating_env/lib/python3.9/site-packages/sklearn/metrics/_classification.py\", line 104, in _check_targets\n",
      "    raise ValueError(\"{0} is not supported\".format(y_type))\n",
      "ValueError: continuous is not supported\n",
      "\n",
      "  warnings.warn(\n"
     ]
    }
   ],
   "source": [
    "kf = KFold(n_splits=10, shuffle=True, random_state=42)\n",
    "X = StandardScaler().fit_transform(df.drop('rating', axis=1))\n",
    "y = df['rating'].values\n",
    "rf_reg = RandomForestRegressor()\n",
    "cv_results = cross_validate(rf_reg, X, y, cv=kf, scoring = 'accuracy', return_estimator =True)\n",
    "\n",
    "\n",
    "for estimator in cv_results['estimator']:\n",
    "    feature_importances = pd.DataFrame(estimator.feature_importances_,\n",
    "                                       index = (df.drop('rating', axis=1).columns),\n",
    "                                        columns=['importance']).sort_values('importance', ascending=False)\n",
    "    print(feature_importances)"
   ]
  },
  {
   "cell_type": "markdown",
   "metadata": {},
   "source": [
    "### Lets try dropping [restaurant_operation, online_ordering]\n",
    "### Here, I tried to remove phones_count and table_bookings but it's acually performing better using them"
   ]
  },
  {
   "cell_type": "code",
   "execution_count": 328,
   "metadata": {},
   "outputs": [
    {
     "name": "stdout",
     "output_type": "stream",
     "text": [
      "[0.73920543 0.79068169 0.82867273 0.8526992  0.80787555 0.85025225\n",
      " 0.7543297  0.84429135 0.85410747 0.82657342]\n",
      "0.8148688787916335\n"
     ]
    }
   ],
   "source": [
    "kf = KFold(n_splits=10, shuffle=True, random_state=42)\n",
    "X = StandardScaler().fit_transform(df.drop(['rating', 'restaurant_operation', 'online_ordering'], axis=1))\n",
    "y = df['rating'].values\n",
    "rf_reg = RandomForestRegressor()\n",
    "cv_results = cross_val_score(rf_reg, X, y, cv=kf)\n",
    "print(cv_results)\n",
    "print(np.mean(cv_results))"
   ]
  },
  {
   "cell_type": "code",
   "execution_count": null,
   "metadata": {},
   "outputs": [],
   "source": []
  },
  {
   "cell_type": "code",
   "execution_count": null,
   "metadata": {},
   "outputs": [],
   "source": []
  },
  {
   "cell_type": "code",
   "execution_count": null,
   "metadata": {},
   "outputs": [],
   "source": []
  },
  {
   "cell_type": "code",
   "execution_count": null,
   "metadata": {},
   "outputs": [],
   "source": []
  },
  {
   "cell_type": "code",
   "execution_count": null,
   "metadata": {},
   "outputs": [],
   "source": []
  },
  {
   "cell_type": "code",
   "execution_count": null,
   "metadata": {},
   "outputs": [],
   "source": []
  }
 ],
 "metadata": {
  "kernelspec": {
   "display_name": "Python 3.9.8 ('restaurants_rating_env': venv)",
   "language": "python",
   "name": "python3"
  },
  "language_info": {
   "codemirror_mode": {
    "name": "ipython",
    "version": 3
   },
   "file_extension": ".py",
   "mimetype": "text/x-python",
   "name": "python",
   "nbconvert_exporter": "python",
   "pygments_lexer": "ipython3",
   "version": "3.9.8"
  },
  "orig_nbformat": 4,
  "vscode": {
   "interpreter": {
    "hash": "ede4a064f9702736da9b1f161b47bbcbcc942efdc54e60ef42a3b9f484490b3f"
   }
  }
 },
 "nbformat": 4,
 "nbformat_minor": 2
}
